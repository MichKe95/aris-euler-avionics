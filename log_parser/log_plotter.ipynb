{
 "cells": [
  {
   "cell_type": "markdown",
   "metadata": {},
   "source": [
    "# Setup"
   ]
  },
  {
   "cell_type": "code",
   "execution_count": 1,
   "metadata": {},
   "outputs": [],
   "source": [
    "import pandas as pd\n",
    "import seaborn as sns"
   ]
  },
  {
   "cell_type": "code",
   "execution_count": 2,
   "metadata": {},
   "outputs": [],
   "source": [
    "import matplotlib.transforms as transforms"
   ]
  },
  {
   "cell_type": "code",
   "execution_count": 3,
   "metadata": {},
   "outputs": [],
   "source": [
    "sns.set(rc={'figure.figsize':(24, 13.5)}, font_scale = 2.7)"
   ]
  },
  {
   "cell_type": "code",
   "execution_count": 4,
   "metadata": {},
   "outputs": [],
   "source": [
    "#input args\n",
    "out_dir = './out'\n",
    "log_id = 1\n",
    "\n",
    "#derived args\n",
    "split_logs_dir = f'{out_dir}/split_logs/'"
   ]
  },
  {
   "cell_type": "code",
   "execution_count": 5,
   "metadata": {},
   "outputs": [],
   "source": [
    "#access all 3 measurement axes\n",
    "dim3 = lambda x : [x + '_' + s for s in ['x', 'y', 'z']]"
   ]
  },
  {
   "cell_type": "markdown",
   "metadata": {},
   "source": [
    "# State preparation"
   ]
  },
  {
   "cell_type": "code",
   "execution_count": 6,
   "metadata": {},
   "outputs": [
    {
     "data": {
      "text/html": [
       "<div>\n",
       "<style scoped>\n",
       "    .dataframe tbody tr th:only-of-type {\n",
       "        vertical-align: middle;\n",
       "    }\n",
       "\n",
       "    .dataframe tbody tr th {\n",
       "        vertical-align: top;\n",
       "    }\n",
       "\n",
       "    .dataframe thead th {\n",
       "        text-align: right;\n",
       "    }\n",
       "</style>\n",
       "<table border=\"1\" class=\"dataframe\">\n",
       "  <thead>\n",
       "    <tr style=\"text-align: right;\">\n",
       "      <th></th>\n",
       "      <th>Timestamp</th>\n",
       "      <th>Log Entry Type</th>\n",
       "      <th>State</th>\n",
       "      <th>Time_s</th>\n",
       "    </tr>\n",
       "    <tr>\n",
       "      <th>Log Entry</th>\n",
       "      <th></th>\n",
       "      <th></th>\n",
       "      <th></th>\n",
       "      <th></th>\n",
       "    </tr>\n",
       "  </thead>\n",
       "  <tbody>\n",
       "    <tr>\n",
       "      <th>4</th>\n",
       "      <td>504</td>\n",
       "      <td>STATE</td>\n",
       "      <td>IDLE</td>\n",
       "      <td>0.504</td>\n",
       "    </tr>\n",
       "    <tr>\n",
       "      <th>95</th>\n",
       "      <td>609</td>\n",
       "      <td>STATE</td>\n",
       "      <td>IDLE</td>\n",
       "      <td>0.609</td>\n",
       "    </tr>\n",
       "    <tr>\n",
       "      <th>177</th>\n",
       "      <td>704</td>\n",
       "      <td>STATE</td>\n",
       "      <td>IDLE</td>\n",
       "      <td>0.704</td>\n",
       "    </tr>\n",
       "    <tr>\n",
       "      <th>260</th>\n",
       "      <td>804</td>\n",
       "      <td>STATE</td>\n",
       "      <td>IDLE</td>\n",
       "      <td>0.804</td>\n",
       "    </tr>\n",
       "    <tr>\n",
       "      <th>343</th>\n",
       "      <td>904</td>\n",
       "      <td>STATE</td>\n",
       "      <td>IDLE</td>\n",
       "      <td>0.904</td>\n",
       "    </tr>\n",
       "  </tbody>\n",
       "</table>\n",
       "</div>"
      ],
      "text/plain": [
       "           Timestamp Log Entry Type State  Time_s\n",
       "Log Entry                                        \n",
       "4                504          STATE  IDLE   0.504\n",
       "95               609          STATE  IDLE   0.609\n",
       "177              704          STATE  IDLE   0.704\n",
       "260              804          STATE  IDLE   0.804\n",
       "343              904          STATE  IDLE   0.904"
      ]
     },
     "execution_count": 6,
     "metadata": {},
     "output_type": "execute_result"
    }
   ],
   "source": [
    "state_log = pd.read_csv(f'{split_logs_dir}/state_transitions.csv', index_col = 0)\n",
    "state_log.head()"
   ]
  },
  {
   "cell_type": "code",
   "execution_count": 7,
   "metadata": {},
   "outputs": [
    {
     "data": {
      "text/plain": [
       "array(['IDLE'], dtype=object)"
      ]
     },
     "execution_count": 7,
     "metadata": {},
     "output_type": "execute_result"
    }
   ],
   "source": [
    "state_log.State.unique()"
   ]
  },
  {
   "cell_type": "code",
   "execution_count": 8,
   "metadata": {},
   "outputs": [],
   "source": [
    "state_transitions = state_log.loc[state_log['State'].shift(1) != state_log['State']]"
   ]
  },
  {
   "cell_type": "code",
   "execution_count": 9,
   "metadata": {},
   "outputs": [
    {
     "name": "stdout",
     "output_type": "stream",
     "text": [
      "{'Timestamp': 504, 'Log Entry Type': 'STATE', 'State': 'IDLE', 'Time_s': 0.504}\n"
     ]
    }
   ],
   "source": [
    "for state_transition in state_transitions.to_dict(orient = 'rows'):\n",
    "    print(state_transition)"
   ]
  },
  {
   "cell_type": "code",
   "execution_count": 10,
   "metadata": {},
   "outputs": [],
   "source": [
    "def plot_states(state_transitions):\n",
    "    for state_transition in state_transitions.to_dict(orient = 'rows'):\n",
    "        plt.axvline(state_transition['Time_s'], color='grey', linestyle='--')\n",
    "        plt.text(state_transition['Time_s'], 0.1, state_transition['State'], fontsize=20, transform=plt.get_xaxis_transform(), rotation=90)"
   ]
  },
  {
   "cell_type": "markdown",
   "metadata": {},
   "source": [
    "# IMU Plotting"
   ]
  },
  {
   "cell_type": "code",
   "execution_count": 11,
   "metadata": {},
   "outputs": [
    {
     "data": {
      "text/html": [
       "<div>\n",
       "<style scoped>\n",
       "    .dataframe tbody tr th:only-of-type {\n",
       "        vertical-align: middle;\n",
       "    }\n",
       "\n",
       "    .dataframe tbody tr th {\n",
       "        vertical-align: top;\n",
       "    }\n",
       "\n",
       "    .dataframe thead th {\n",
       "        text-align: right;\n",
       "    }\n",
       "</style>\n",
       "<table border=\"1\" class=\"dataframe\">\n",
       "  <thead>\n",
       "    <tr style=\"text-align: right;\">\n",
       "      <th></th>\n",
       "      <th>Timestamp</th>\n",
       "      <th>Time_s</th>\n",
       "      <th>Log Entry Type</th>\n",
       "      <th>Sensor Board ID</th>\n",
       "      <th>Sensor Board Timestamp</th>\n",
       "      <th>Sensor Type</th>\n",
       "      <th>Acc_x</th>\n",
       "      <th>Acc_y</th>\n",
       "      <th>Acc_z</th>\n",
       "      <th>Gyro_x</th>\n",
       "      <th>Gyro_y</th>\n",
       "      <th>Gyro_z</th>\n",
       "    </tr>\n",
       "    <tr>\n",
       "      <th>Log Entry</th>\n",
       "      <th></th>\n",
       "      <th></th>\n",
       "      <th></th>\n",
       "      <th></th>\n",
       "      <th></th>\n",
       "      <th></th>\n",
       "      <th></th>\n",
       "      <th></th>\n",
       "      <th></th>\n",
       "      <th></th>\n",
       "      <th></th>\n",
       "      <th></th>\n",
       "    </tr>\n",
       "  </thead>\n",
       "  <tbody>\n",
       "    <tr>\n",
       "      <th>3</th>\n",
       "      <td>511</td>\n",
       "      <td>0.511</td>\n",
       "      <td>SENSOR</td>\n",
       "      <td>1</td>\n",
       "      <td>0</td>\n",
       "      <td>IMU</td>\n",
       "      <td>0.000000</td>\n",
       "      <td>0.000000</td>\n",
       "      <td>0.000000</td>\n",
       "      <td>0.000000</td>\n",
       "      <td>0.000000</td>\n",
       "      <td>0.000000</td>\n",
       "    </tr>\n",
       "    <tr>\n",
       "      <th>7</th>\n",
       "      <td>511</td>\n",
       "      <td>0.511</td>\n",
       "      <td>SENSOR</td>\n",
       "      <td>2</td>\n",
       "      <td>0</td>\n",
       "      <td>IMU</td>\n",
       "      <td>0.000000</td>\n",
       "      <td>0.000000</td>\n",
       "      <td>0.000000</td>\n",
       "      <td>0.000000</td>\n",
       "      <td>0.000000</td>\n",
       "      <td>0.000000</td>\n",
       "    </tr>\n",
       "    <tr>\n",
       "      <th>9</th>\n",
       "      <td>511</td>\n",
       "      <td>0.511</td>\n",
       "      <td>SENSOR</td>\n",
       "      <td>3</td>\n",
       "      <td>0</td>\n",
       "      <td>IMU</td>\n",
       "      <td>0.000000</td>\n",
       "      <td>0.000000</td>\n",
       "      <td>0.000000</td>\n",
       "      <td>0.000000</td>\n",
       "      <td>0.000000</td>\n",
       "      <td>0.000000</td>\n",
       "    </tr>\n",
       "    <tr>\n",
       "      <th>18</th>\n",
       "      <td>521</td>\n",
       "      <td>0.521</td>\n",
       "      <td>SENSOR</td>\n",
       "      <td>1</td>\n",
       "      <td>18074</td>\n",
       "      <td>IMU</td>\n",
       "      <td>-0.045898</td>\n",
       "      <td>0.010742</td>\n",
       "      <td>-1.026367</td>\n",
       "      <td>0.137405</td>\n",
       "      <td>-0.152672</td>\n",
       "      <td>-0.259542</td>\n",
       "    </tr>\n",
       "    <tr>\n",
       "      <th>20</th>\n",
       "      <td>521</td>\n",
       "      <td>0.521</td>\n",
       "      <td>SENSOR</td>\n",
       "      <td>2</td>\n",
       "      <td>18004</td>\n",
       "      <td>IMU</td>\n",
       "      <td>0.001953</td>\n",
       "      <td>-0.024414</td>\n",
       "      <td>-0.995117</td>\n",
       "      <td>0.015267</td>\n",
       "      <td>-0.229008</td>\n",
       "      <td>-0.137405</td>\n",
       "    </tr>\n",
       "  </tbody>\n",
       "</table>\n",
       "</div>"
      ],
      "text/plain": [
       "           Timestamp  Time_s Log Entry Type  Sensor Board ID  \\\n",
       "Log Entry                                                      \n",
       "3                511   0.511         SENSOR                1   \n",
       "7                511   0.511         SENSOR                2   \n",
       "9                511   0.511         SENSOR                3   \n",
       "18               521   0.521         SENSOR                1   \n",
       "20               521   0.521         SENSOR                2   \n",
       "\n",
       "           Sensor Board Timestamp Sensor Type     Acc_x     Acc_y     Acc_z  \\\n",
       "Log Entry                                                                     \n",
       "3                               0         IMU  0.000000  0.000000  0.000000   \n",
       "7                               0         IMU  0.000000  0.000000  0.000000   \n",
       "9                               0         IMU  0.000000  0.000000  0.000000   \n",
       "18                          18074         IMU -0.045898  0.010742 -1.026367   \n",
       "20                          18004         IMU  0.001953 -0.024414 -0.995117   \n",
       "\n",
       "             Gyro_x    Gyro_y    Gyro_z  \n",
       "Log Entry                                \n",
       "3          0.000000  0.000000  0.000000  \n",
       "7          0.000000  0.000000  0.000000  \n",
       "9          0.000000  0.000000  0.000000  \n",
       "18         0.137405 -0.152672 -0.259542  \n",
       "20         0.015267 -0.229008 -0.137405  "
      ]
     },
     "execution_count": 11,
     "metadata": {},
     "output_type": "execute_result"
    }
   ],
   "source": [
    "imu_log = pd.read_csv(f'{split_logs_dir}/imu.csv', index_col = 0)\n",
    "imu_log.head()"
   ]
  },
  {
   "cell_type": "code",
   "execution_count": 12,
   "metadata": {},
   "outputs": [
    {
     "data": {
      "text/html": [
       "<div>\n",
       "<style scoped>\n",
       "    .dataframe tbody tr th:only-of-type {\n",
       "        vertical-align: middle;\n",
       "    }\n",
       "\n",
       "    .dataframe tbody tr th {\n",
       "        vertical-align: top;\n",
       "    }\n",
       "\n",
       "    .dataframe thead th {\n",
       "        text-align: right;\n",
       "    }\n",
       "</style>\n",
       "<table border=\"1\" class=\"dataframe\">\n",
       "  <thead>\n",
       "    <tr style=\"text-align: right;\">\n",
       "      <th></th>\n",
       "      <th></th>\n",
       "      <th>Log Entry Type</th>\n",
       "      <th>Sensor Board Timestamp</th>\n",
       "      <th>Time_s</th>\n",
       "      <th>Timestamp</th>\n",
       "      <th>Sensor Type</th>\n",
       "      <th>Sensor Board ID</th>\n",
       "      <th>Acc</th>\n",
       "      <th>Gyro</th>\n",
       "      <th>Axis</th>\n",
       "    </tr>\n",
       "    <tr>\n",
       "      <th>Log Entry</th>\n",
       "      <th>Axis</th>\n",
       "      <th></th>\n",
       "      <th></th>\n",
       "      <th></th>\n",
       "      <th></th>\n",
       "      <th></th>\n",
       "      <th></th>\n",
       "      <th></th>\n",
       "      <th></th>\n",
       "      <th></th>\n",
       "    </tr>\n",
       "  </thead>\n",
       "  <tbody>\n",
       "    <tr>\n",
       "      <th>3</th>\n",
       "      <th>x</th>\n",
       "      <td>SENSOR</td>\n",
       "      <td>0</td>\n",
       "      <td>0.511</td>\n",
       "      <td>511</td>\n",
       "      <td>IMU</td>\n",
       "      <td>1</td>\n",
       "      <td>0.000000</td>\n",
       "      <td>0.000000</td>\n",
       "      <td>x</td>\n",
       "    </tr>\n",
       "    <tr>\n",
       "      <th>7</th>\n",
       "      <th>x</th>\n",
       "      <td>SENSOR</td>\n",
       "      <td>0</td>\n",
       "      <td>0.511</td>\n",
       "      <td>511</td>\n",
       "      <td>IMU</td>\n",
       "      <td>2</td>\n",
       "      <td>0.000000</td>\n",
       "      <td>0.000000</td>\n",
       "      <td>x</td>\n",
       "    </tr>\n",
       "    <tr>\n",
       "      <th>9</th>\n",
       "      <th>x</th>\n",
       "      <td>SENSOR</td>\n",
       "      <td>0</td>\n",
       "      <td>0.511</td>\n",
       "      <td>511</td>\n",
       "      <td>IMU</td>\n",
       "      <td>3</td>\n",
       "      <td>0.000000</td>\n",
       "      <td>0.000000</td>\n",
       "      <td>x</td>\n",
       "    </tr>\n",
       "    <tr>\n",
       "      <th>18</th>\n",
       "      <th>x</th>\n",
       "      <td>SENSOR</td>\n",
       "      <td>18074</td>\n",
       "      <td>0.521</td>\n",
       "      <td>521</td>\n",
       "      <td>IMU</td>\n",
       "      <td>1</td>\n",
       "      <td>-0.045898</td>\n",
       "      <td>0.137405</td>\n",
       "      <td>x</td>\n",
       "    </tr>\n",
       "    <tr>\n",
       "      <th>20</th>\n",
       "      <th>x</th>\n",
       "      <td>SENSOR</td>\n",
       "      <td>18004</td>\n",
       "      <td>0.521</td>\n",
       "      <td>521</td>\n",
       "      <td>IMU</td>\n",
       "      <td>2</td>\n",
       "      <td>0.001953</td>\n",
       "      <td>0.015267</td>\n",
       "      <td>x</td>\n",
       "    </tr>\n",
       "  </tbody>\n",
       "</table>\n",
       "</div>"
      ],
      "text/plain": [
       "               Log Entry Type  Sensor Board Timestamp  Time_s  Timestamp  \\\n",
       "Log Entry Axis                                                             \n",
       "3         x            SENSOR                       0   0.511        511   \n",
       "7         x            SENSOR                       0   0.511        511   \n",
       "9         x            SENSOR                       0   0.511        511   \n",
       "18        x            SENSOR                   18074   0.521        521   \n",
       "20        x            SENSOR                   18004   0.521        521   \n",
       "\n",
       "               Sensor Type  Sensor Board ID       Acc      Gyro Axis  \n",
       "Log Entry Axis                                                        \n",
       "3         x            IMU                1  0.000000  0.000000    x  \n",
       "7         x            IMU                2  0.000000  0.000000    x  \n",
       "9         x            IMU                3  0.000000  0.000000    x  \n",
       "18        x            IMU                1 -0.045898  0.137405    x  \n",
       "20        x            IMU                2  0.001953  0.015267    x  "
      ]
     },
     "execution_count": 12,
     "metadata": {},
     "output_type": "execute_result"
    }
   ],
   "source": [
    "#convert from wide to long format for plotting\n",
    "\n",
    "imu_log.reset_index(inplace = True)\n",
    "imu_log_long = pd.wide_to_long(imu_log, stubnames=['Acc', 'Gyro'], i = 'Log Entry', j='Axis', sep='_', suffix='\\w')\n",
    "imu_log_long['Axis'] = imu_log_long.index.get_level_values(1)\n",
    "imu_log_long.head()"
   ]
  },
  {
   "cell_type": "code",
   "execution_count": null,
   "metadata": {},
   "outputs": [],
   "source": [
    "plt = sns.lineplot(data = imu_log_long, x = 'Time_s', y = 'Acc', hue = 'Axis')\n",
    "plt.set_title(f'EULER Flight Log {log_id}\\nAcceleration - Sensor Board 3\\n')\n",
    "plt.set_ylabel('Acceleration [g]')\n",
    "plt.set_xlabel('Time [s]')\n",
    "plt.set_ylim(-3, 10)\n",
    "plot_states(state_transitions)"
   ]
  },
  {
   "cell_type": "code",
   "execution_count": null,
   "metadata": {},
   "outputs": [],
   "source": [
    "plt = sns.lineplot(data = imu_log_long, x = 'Time_s', y = 'Gyro', hue = 'Axis')\n",
    "plt.set_title(f'EULER Flight Log {log_id}\\nGyroscope - Sensor Board 3\\n')\n",
    "plt.set_ylabel('Rotation [dps]')\n",
    "plt.set_xlabel('Time [s]')\n",
    "plot_states(state_transitions)"
   ]
  },
  {
   "cell_type": "markdown",
   "metadata": {},
   "source": [
    "# Baro + Temp Plotting"
   ]
  },
  {
   "cell_type": "code",
   "execution_count": null,
   "metadata": {},
   "outputs": [],
   "source": [
    "baro_log = pd.read_csv(f'{split_logs_dir}/baro.csv', index_col = 0)\n",
    "baro_log.head()"
   ]
  },
  {
   "cell_type": "code",
   "execution_count": null,
   "metadata": {},
   "outputs": [],
   "source": [
    "plt = sns.lineplot(data = baro_log[1:], x = 'Time_s', y = 'Pressure')\n",
    "plt.set_title('Flight Log\\n')\n",
    "#plt.set_ylim(-3300, -3100)\n",
    "plt.set_ylabel('Pressure [Pa]')\n",
    "plt.set_xlabel('Time [s]')\n",
    "plot_states(state_transitions)"
   ]
  },
  {
   "cell_type": "code",
   "execution_count": null,
   "metadata": {},
   "outputs": [],
   "source": [
    "plt = sns.lineplot(data = baro_log[1:], x = 'Time_s', y = 'Temperature')\n",
    "plt.set_title(f'EULER Flight Log {log_id}\\nTemperature - Sensor Board 3\\n')\n",
    "plt.set_ylabel('Temperature [\\N{DEGREE SIGN}C]')\n",
    "plt.set_xlabel('Time [s]')\n",
    "plot_states(state_transitions)\n",
    "#plt.set_ylim(-3300, -3100)\n",
    "#ylabels = ['{:,.1f}'.format(y) + '\\N{DEGREE SIGN}C' for y in plt.get_yticks()]\n",
    "#plt.set_yticklabels(ylabels)"
   ]
  },
  {
   "cell_type": "markdown",
   "metadata": {},
   "source": [
    "## Battery Plotting"
   ]
  },
  {
   "cell_type": "code",
   "execution_count": null,
   "metadata": {},
   "outputs": [],
   "source": [
    "battery_log = pd.read_csv(f'{split_logs_dir}/battery.csv', index_col = 0)\n",
    "battery_log.head()"
   ]
  },
  {
   "cell_type": "code",
   "execution_count": null,
   "metadata": {},
   "outputs": [],
   "source": [
    "plt = sns.lineplot(data = battery_log[1:], x = 'Time_s', y = 'Battery')\n",
    "plt.set_title(f'EULER Flight Log {log_id}\\nBattery - Battery?\\n')\n",
    "plt.set_ylabel('???')\n",
    "plt.set_xlabel('Time [s]')\n",
    "plot_states(state_transitions)"
   ]
  },
  {
   "cell_type": "code",
   "execution_count": null,
   "metadata": {},
   "outputs": [],
   "source": [
    "plt = sns.lineplot(data = battery_log[1:], x = 'Time_s', y = 'Consumption')\n",
    "plt.set_title(f'EULER Flight Log {log_id}\\nBattery - Consumption\\n')\n",
    "plt.set_ylabel('???')\n",
    "plt.set_xlabel('Time [s]')\n",
    "plot_states(state_transitions)"
   ]
  },
  {
   "cell_type": "code",
   "execution_count": null,
   "metadata": {},
   "outputs": [],
   "source": [
    "plt = sns.lineplot(data = battery_log[1:], x = 'Time_s', y = 'Current')\n",
    "plt.set_title(f'EULER Flight Log {log_id}\\nBattery - Current\\n')\n",
    "plt.set_ylabel('???')\n",
    "plt.set_xlabel('Time [s]')\n",
    "plot_states(state_transitions)"
   ]
  },
  {
   "cell_type": "code",
   "execution_count": null,
   "metadata": {},
   "outputs": [],
   "source": [
    "plt = sns.lineplot(data = battery_log[1:], x = 'Time_s', y = 'Supply')\n",
    "plt.set_title(f'EULER Flight Log {log_id}\\nBattery - Supply\\n')\n",
    "plt.set_ylabel('???')\n",
    "plt.set_xlabel('Time [s]')\n",
    "plot_states(state_transitions)"
   ]
  },
  {
   "cell_type": "markdown",
   "metadata": {},
   "source": [
    "## Estimator Vars Plotting"
   ]
  },
  {
   "cell_type": "code",
   "execution_count": null,
   "metadata": {},
   "outputs": [],
   "source": [
    "estimator_var_log = pd.read_csv(f'{split_logs_dir}/estimator_var.csv', index_col = 0)\n",
    "estimator_var_log.head()"
   ]
  },
  {
   "cell_type": "code",
   "execution_count": null,
   "metadata": {},
   "outputs": [],
   "source": [
    "plt = sns.lineplot(data = estimator_var_log[1:], x = 'Time_s', y = 'World Position (z)')\n",
    "plt.set_ylabel('World Position: Z axis [m]')\n",
    "plt.set_xlabel('Time [s]')\n",
    "plot_states(state_transitions)"
   ]
  },
  {
   "cell_type": "code",
   "execution_count": null,
   "metadata": {},
   "outputs": [],
   "source": [
    "plt = sns.lineplot(data = estimator_var_log[1:], x = 'Time_s', y = 'Rocket Velocity (z)')\n",
    "plt.set_ylabel('Rocket Velocity: Z axis [m/s]')\n",
    "plt.set_xlabel('Time [s]')\n",
    "plot_states(state_transitions)"
   ]
  },
  {
   "cell_type": "code",
   "execution_count": null,
   "metadata": {},
   "outputs": [],
   "source": [
    "plt = sns.lineplot(data = estimator_var_log[1:], x = 'Time_s', y = 'Rocket Acceleration (z)')\n",
    "plt.set_ylabel('Rocket Acceleration: Z axis [m/s^2]')\n",
    "plt.set_xlabel('Time [s]')\n",
    "plot_states(state_transitions)"
   ]
  },
  {
   "cell_type": "code",
   "execution_count": null,
   "metadata": {},
   "outputs": [],
   "source": [
    "controller_out_log = pd.read_csv(f'{split_logs_dir}/controller_out.csv', index_col = 0)\n",
    "controller_out_log.head()"
   ]
  },
  {
   "cell_type": "code",
   "execution_count": null,
   "metadata": {},
   "outputs": [],
   "source": [
    "controller_out_log['Controller Output'].unique()"
   ]
  },
  {
   "cell_type": "code",
   "execution_count": null,
   "metadata": {},
   "outputs": [],
   "source": [
    "plt = sns.lineplot(data = controller_out_log[1:], x = 'Time_s', y = 'Controller Output')\n",
    "plt.set_xlabel('Time [s]')\n",
    "plot_states(state_transitions)"
   ]
  },
  {
   "cell_type": "code",
   "execution_count": null,
   "metadata": {},
   "outputs": [],
   "source": [
    "plt = sns.lineplot(data = controller_out_log[1:], x = 'Time_s', y = 'Reference Error')\n",
    "plt.set_xlabel('Time [s]')\n",
    "plot_states(state_transitions)"
   ]
  },
  {
   "cell_type": "code",
   "execution_count": null,
   "metadata": {},
   "outputs": [],
   "source": [
    "plt = sns.lineplot(data = controller_out_log[1:], x = 'Time_s', y = 'Integrated Error')\n",
    "plt.set_xlabel('Time [s]')\n",
    "plot_states(state_transitions)"
   ]
  },
  {
   "cell_type": "code",
   "execution_count": null,
   "metadata": {},
   "outputs": [],
   "source": []
  },
  {
   "cell_type": "code",
   "execution_count": null,
   "metadata": {},
   "outputs": [],
   "source": []
  },
  {
   "cell_type": "code",
   "execution_count": null,
   "metadata": {},
   "outputs": [],
   "source": []
  }
 ],
 "metadata": {
  "kernelspec": {
   "display_name": "Python 3",
   "language": "python",
   "name": "python3"
  },
  "language_info": {
   "codemirror_mode": {
    "name": "ipython",
    "version": 3
   },
   "file_extension": ".py",
   "mimetype": "text/x-python",
   "name": "python",
   "nbconvert_exporter": "python",
   "pygments_lexer": "ipython3",
   "version": "3.7.6"
  }
 },
 "nbformat": 4,
 "nbformat_minor": 2
}
