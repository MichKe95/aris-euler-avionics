{
 "cells": [
  {
   "cell_type": "markdown",
   "metadata": {},
   "source": [
    "# Setup"
   ]
  },
  {
   "cell_type": "code",
   "execution_count": null,
   "metadata": {},
   "outputs": [],
   "source": [
    "import pandas as pd\n",
    "import seaborn as sns"
   ]
  },
  {
   "cell_type": "code",
   "execution_count": null,
   "metadata": {},
   "outputs": [],
   "source": [
    "import matplotlib.transforms as transforms"
   ]
  },
  {
   "cell_type": "code",
   "execution_count": null,
   "metadata": {},
   "outputs": [],
   "source": [
    "sns.set(rc={'figure.figsize':(24, 13.5)}, font_scale = 2.7)"
   ]
  },
  {
   "cell_type": "code",
   "execution_count": null,
   "metadata": {},
   "outputs": [],
   "source": [
    "#input args\n",
    "out_dir = './out'\n",
    "log_id = 1\n",
    "\n",
    "#derived args\n",
    "split_logs_dir = f'{out_dir}/split_logs/'"
   ]
  },
  {
   "cell_type": "code",
   "execution_count": null,
   "metadata": {},
   "outputs": [],
   "source": [
    "#access all 3 measurement axes\n",
    "dim3 = lambda x : [x + '_' + s for s in ['x', 'y', 'z']]"
   ]
  },
  {
   "cell_type": "markdown",
   "metadata": {},
   "source": [
    "# State preparation"
   ]
  },
  {
   "cell_type": "code",
   "execution_count": null,
   "metadata": {},
   "outputs": [],
   "source": [
    "state_log = pd.read_csv(f'{split_logs_dir}/state_transitions.csv', index_col = 0)\n",
    "state_log.head()"
   ]
  },
  {
   "cell_type": "code",
   "execution_count": null,
   "metadata": {},
   "outputs": [],
   "source": [
    "state_log.State.unique()"
   ]
  },
  {
   "cell_type": "code",
   "execution_count": null,
   "metadata": {},
   "outputs": [],
   "source": [
    "state_transitions = state_log.loc[state_log['State'].shift(1) != state_log['State']]"
   ]
  },
  {
   "cell_type": "code",
   "execution_count": null,
   "metadata": {},
   "outputs": [],
   "source": [
    "for state_transition in state_transitions.to_dict(orient = 'rows'):\n",
    "    print(state_transition)"
   ]
  },
  {
   "cell_type": "code",
   "execution_count": null,
   "metadata": {},
   "outputs": [],
   "source": [
    "def plot_states(state_transitions):\n",
    "    for state_transition in state_transitions.to_dict(orient = 'rows'):\n",
    "        plt.axvline(state_transition['Time_s'], color='grey', linestyle='--')\n",
    "        plt.text(state_transition['Time_s'], 0.1, state_transition['State'], fontsize=20, transform=plt.get_xaxis_transform(), rotation=90)"
   ]
  },
  {
   "cell_type": "markdown",
   "metadata": {},
   "source": [
    "# IMU Plotting"
   ]
  },
  {
   "cell_type": "code",
   "execution_count": null,
   "metadata": {},
   "outputs": [],
   "source": [
    "imu_log = pd.read_csv(f'{split_logs_dir}/imu.csv', index_col = 0)\n",
    "imu_log.head()"
   ]
  },
  {
   "cell_type": "code",
   "execution_count": null,
   "metadata": {},
   "outputs": [],
   "source": [
    "#convert from wide to long format for plotting\n",
    "\n",
    "imu_log.reset_index(inplace = True)\n",
    "imu_log_long = pd.wide_to_long(imu_log, stubnames=['Acc', 'Gyro'], i = 'Log Entry', j='Axis', sep='_', suffix='\\w')\n",
    "imu_log_long['Axis'] = imu_log_long.index.get_level_values(1)\n",
    "imu_log_long.head()"
   ]
  },
  {
   "cell_type": "code",
   "execution_count": null,
   "metadata": {},
   "outputs": [],
   "source": [
    "plt = sns.lineplot(data = imu_log_long, x = 'Time_s', y = 'Acc', hue = 'Axis')\n",
    "plt.set_title(f'EULER Flight Log {log_id}\\nAcceleration - Sensor Board 3\\n')\n",
    "plt.set_ylabel('Acceleration [g]')\n",
    "plt.set_xlabel('Time [s]')\n",
    "plt.set_ylim(-3, 10)\n",
    "plot_states(state_transitions)"
   ]
  },
  {
   "cell_type": "code",
   "execution_count": null,
   "metadata": {},
   "outputs": [],
   "source": [
    "plt = sns.lineplot(data = imu_log_long, x = 'Time_s', y = 'Gyro', hue = 'Axis')\n",
    "plt.set_title(f'EULER Flight Log {log_id}\\nGyroscope - Sensor Board 3\\n')\n",
    "plt.set_ylabel('Rotation [dps]')\n",
    "plt.set_xlabel('Time [s]')\n",
    "plot_states(state_transitions)"
   ]
  },
  {
   "cell_type": "markdown",
   "metadata": {},
   "source": [
    "# Baro + Temp Plotting"
   ]
  },
  {
   "cell_type": "code",
   "execution_count": null,
   "metadata": {},
   "outputs": [],
   "source": [
    "baro_log = pd.read_csv(f'{split_logs_dir}/baro.csv', index_col = 0)\n",
    "baro_log.head()"
   ]
  },
  {
   "cell_type": "code",
   "execution_count": null,
   "metadata": {},
   "outputs": [],
   "source": [
    "plt = sns.lineplot(data = baro_log[1:], x = 'Time_s', y = 'Pressure')\n",
    "plt.set_title('Flight Log\\n')\n",
    "#plt.set_ylim(-3300, -3100)\n",
    "plt.set_ylabel('Pressure [Pa]')\n",
    "plt.set_xlabel('Time [s]')\n",
    "plot_states(state_transitions)"
   ]
  },
  {
   "cell_type": "code",
   "execution_count": null,
   "metadata": {},
   "outputs": [],
   "source": [
    "plt = sns.lineplot(data = baro_log[1:], x = 'Time_s', y = 'Temperature')\n",
    "plt.set_title(f'EULER Flight Log {log_id}\\nTemperature - Sensor Board 3\\n')\n",
    "plt.set_ylabel('Temperature [\\N{DEGREE SIGN}C]')\n",
    "plt.set_xlabel('Time [s]')\n",
    "plot_states(state_transitions)\n",
    "#plt.set_ylim(-3300, -3100)\n",
    "#ylabels = ['{:,.1f}'.format(y) + '\\N{DEGREE SIGN}C' for y in plt.get_yticks()]\n",
    "#plt.set_yticklabels(ylabels)"
   ]
  },
  {
   "cell_type": "code",
   "execution_count": null,
   "metadata": {},
   "outputs": [],
   "source": [
    "estimator_var_log = pd.read_csv(f'{split_logs_dir}/estimator_var.csv', index_col = 0)\n",
    "estimator_var_log.head()"
   ]
  },
  {
   "cell_type": "code",
   "execution_count": null,
   "metadata": {},
   "outputs": [],
   "source": [
    "plt = sns.lineplot(data = estimator_var_log[1:], x = 'Time_s', y = 'World Position (z)')\n",
    "plt.set_ylabel('World Position: Z axis [m]')\n",
    "plt.set_xlabel('Time [s]')\n",
    "plot_states(state_transitions)"
   ]
  },
  {
   "cell_type": "code",
   "execution_count": null,
   "metadata": {},
   "outputs": [],
   "source": [
    "plt = sns.lineplot(data = estimator_var_log[1:], x = 'Time_s', y = 'Rocket Velocity (z)')\n",
    "plt.set_ylabel('Rocket Velocity: Z axis [m/s]')\n",
    "plt.set_xlabel('Time [s]')\n",
    "plot_states(state_transitions)"
   ]
  },
  {
   "cell_type": "code",
   "execution_count": null,
   "metadata": {},
   "outputs": [],
   "source": [
    "controller_out_log = pd.read_csv(f'{split_logs_dir}/controller_out.csv', index_col = 0)\n",
    "controller_out_log.head()"
   ]
  },
  {
   "cell_type": "code",
   "execution_count": null,
   "metadata": {},
   "outputs": [],
   "source": [
    "controller_out_log['Controller Output'].unique()"
   ]
  },
  {
   "cell_type": "code",
   "execution_count": null,
   "metadata": {},
   "outputs": [],
   "source": [
    "plt = sns.lineplot(data = controller_out_log[1:], x = 'Time_s', y = 'Controller Output')\n",
    "plt.set_xlabel('Time [s]')\n",
    "plot_states(state_transitions)"
   ]
  },
  {
   "cell_type": "code",
   "execution_count": null,
   "metadata": {},
   "outputs": [],
   "source": [
    "plt = sns.lineplot(data = controller_out_log[1:], x = 'Time_s', y = 'Reference Error')\n",
    "plt.set_xlabel('Time [s]')\n",
    "plot_states(state_transitions)"
   ]
  },
  {
   "cell_type": "code",
   "execution_count": null,
   "metadata": {},
   "outputs": [],
   "source": [
    "plt = sns.lineplot(data = controller_out_log[1:], x = 'Time_s', y = 'Integrated Error')\n",
    "plt.set_xlabel('Time [s]')\n",
    "plot_states(state_transitions)"
   ]
  },
  {
   "cell_type": "code",
   "execution_count": null,
   "metadata": {},
   "outputs": [],
   "source": []
  },
  {
   "cell_type": "code",
   "execution_count": null,
   "metadata": {},
   "outputs": [],
   "source": []
  },
  {
   "cell_type": "code",
   "execution_count": null,
   "metadata": {},
   "outputs": [],
   "source": []
  }
 ],
 "metadata": {
  "kernelspec": {
   "display_name": "Python 3",
   "language": "python",
   "name": "python3"
  },
  "language_info": {
   "codemirror_mode": {
    "name": "ipython",
    "version": 3
   },
   "file_extension": ".py",
   "mimetype": "text/x-python",
   "name": "python",
   "nbconvert_exporter": "python",
   "pygments_lexer": "ipython3",
   "version": "3.7.6"
  }
 },
 "nbformat": 4,
 "nbformat_minor": 2
}
