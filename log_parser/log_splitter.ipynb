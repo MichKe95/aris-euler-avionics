{
 "cells": [
  {
   "cell_type": "markdown",
   "metadata": {},
   "source": [
    "# Setup"
   ]
  },
  {
   "cell_type": "code",
   "execution_count": 1,
   "metadata": {},
   "outputs": [],
   "source": [
    "import pandas as pd\n",
    "from pathlib import Path"
   ]
  },
  {
   "cell_type": "code",
   "execution_count": 2,
   "metadata": {},
   "outputs": [],
   "source": [
    "#input args\n",
    "log_name = 'logs/LOG_011.csv'\n",
    "ticks_per_second_mb = 1000\n",
    "out_dir = './out'\n",
    "\n",
    "#derived args\n",
    "split_logs_dir = f'{out_dir}/split_logs/'"
   ]
  },
  {
   "cell_type": "code",
   "execution_count": 3,
   "metadata": {},
   "outputs": [],
   "source": [
    "#create output folders\n",
    "Path(f'{out_dir}/split_logs').mkdir(parents=True, exist_ok=True)\n",
    "Path(f'{out_dir}/plots').mkdir(parents=True, exist_ok=True)"
   ]
  },
  {
   "cell_type": "markdown",
   "metadata": {},
   "source": [
    "# Full Log"
   ]
  },
  {
   "cell_type": "code",
   "execution_count": 4,
   "metadata": {},
   "outputs": [
    {
     "data": {
      "text/html": [
       "<div>\n",
       "<style scoped>\n",
       "    .dataframe tbody tr th:only-of-type {\n",
       "        vertical-align: middle;\n",
       "    }\n",
       "\n",
       "    .dataframe tbody tr th {\n",
       "        vertical-align: top;\n",
       "    }\n",
       "\n",
       "    .dataframe thead th {\n",
       "        text-align: right;\n",
       "    }\n",
       "</style>\n",
       "<table border=\"1\" class=\"dataframe\">\n",
       "  <thead>\n",
       "    <tr style=\"text-align: right;\">\n",
       "      <th></th>\n",
       "      <th>Timestamp</th>\n",
       "      <th>Log Entry Type</th>\n",
       "      <th>Data</th>\n",
       "    </tr>\n",
       "    <tr>\n",
       "      <th>Log Entry</th>\n",
       "      <th></th>\n",
       "      <th></th>\n",
       "      <th></th>\n",
       "    </tr>\n",
       "  </thead>\n",
       "  <tbody>\n",
       "    <tr>\n",
       "      <th>0</th>\n",
       "      <td>1001</td>\n",
       "      <td>4</td>\n",
       "      <td>Controlling something...</td>\n",
       "    </tr>\n",
       "    <tr>\n",
       "      <th>1</th>\n",
       "      <td>1001</td>\n",
       "      <td>3</td>\n",
       "      <td>20202020</td>\n",
       "    </tr>\n",
       "    <tr>\n",
       "      <th>2</th>\n",
       "      <td>11</td>\n",
       "      <td>1</td>\n",
       "      <td>3,1,0,0,0</td>\n",
       "    </tr>\n",
       "    <tr>\n",
       "      <th>3</th>\n",
       "      <td>11</td>\n",
       "      <td>1</td>\n",
       "      <td>3,2,0,0,0,0,0,0,0</td>\n",
       "    </tr>\n",
       "    <tr>\n",
       "      <th>4</th>\n",
       "      <td>21</td>\n",
       "      <td>1</td>\n",
       "      <td>3,1,-3232,28820,13603</td>\n",
       "    </tr>\n",
       "  </tbody>\n",
       "</table>\n",
       "</div>"
      ],
      "text/plain": [
       "           Timestamp  Log Entry Type                      Data\n",
       "Log Entry                                                     \n",
       "0               1001               4  Controlling something...\n",
       "1               1001               3                  20202020\n",
       "2                 11               1                 3,1,0,0,0\n",
       "3                 11               1         3,2,0,0,0,0,0,0,0\n",
       "4                 21               1     3,1,-3232,28820,13603"
      ]
     },
     "execution_count": 4,
     "metadata": {},
     "output_type": "execute_result"
    }
   ],
   "source": [
    "full_log = pd.read_csv(log_name, delimiter = ';')\n",
    "full_log.index.rename('Log Entry', inplace = True)\n",
    "full_log.head()"
   ]
  },
  {
   "cell_type": "code",
   "execution_count": 5,
   "metadata": {},
   "outputs": [],
   "source": [
    "#convert timestamp ticks to seconds\n",
    "full_log['Time_s'] = full_log['Timestamp']/ticks_per_second_mb"
   ]
  },
  {
   "cell_type": "code",
   "execution_count": 6,
   "metadata": {},
   "outputs": [],
   "source": [
    "#change entry type ids to enums\n",
    "full_log['Log Entry Type'].replace({1:'SENSOR', 2:'STATE', 3:'ESTIMATOR_VAR', 4:'MSG'}, inplace = True)"
   ]
  },
  {
   "cell_type": "markdown",
   "metadata": {},
   "source": [
    "# Sensor Log"
   ]
  },
  {
   "cell_type": "code",
   "execution_count": 7,
   "metadata": {},
   "outputs": [],
   "source": [
    "#extract sensor entries\n",
    "sensor_log = full_log[full_log['Log Entry Type'] == 'SENSOR'].copy()\n",
    "#extract data for sensor entries\n",
    "sensor_log[['Sensor Board ID', 'Sensor Type', 'Data']] = sensor_log['Data'].str.split(',', expand = True, n = 2)\n",
    "\n",
    "#change sensor type ids to enums\n",
    "sensor_log['Sensor Type'] = sensor_log['Sensor Type'].astype(int)\n",
    "sensor_log['Sensor Type'].replace({1:'BARO', 2:'IMU', 3:'GPS'}, inplace = True)"
   ]
  },
  {
   "cell_type": "code",
   "execution_count": 8,
   "metadata": {},
   "outputs": [],
   "source": [
    "#extract individual sensor types\n",
    "baro_log = sensor_log[sensor_log['Sensor Type'] == 'BARO'].copy()\n",
    "imu_log = sensor_log[sensor_log['Sensor Type'] == 'IMU'].copy()\n",
    "gps_log = sensor_log[sensor_log['Sensor Type'] == 'GPS'].copy()"
   ]
  },
  {
   "cell_type": "markdown",
   "metadata": {},
   "source": [
    "## Baro Log"
   ]
  },
  {
   "cell_type": "code",
   "execution_count": 9,
   "metadata": {},
   "outputs": [
    {
     "data": {
      "text/html": [
       "<div>\n",
       "<style scoped>\n",
       "    .dataframe tbody tr th:only-of-type {\n",
       "        vertical-align: middle;\n",
       "    }\n",
       "\n",
       "    .dataframe tbody tr th {\n",
       "        vertical-align: top;\n",
       "    }\n",
       "\n",
       "    .dataframe thead th {\n",
       "        text-align: right;\n",
       "    }\n",
       "</style>\n",
       "<table border=\"1\" class=\"dataframe\">\n",
       "  <thead>\n",
       "    <tr style=\"text-align: right;\">\n",
       "      <th></th>\n",
       "      <th>Timestamp</th>\n",
       "      <th>Time_s</th>\n",
       "      <th>Log Entry Type</th>\n",
       "      <th>Sensor Board ID</th>\n",
       "      <th>Sensor Board Timestamp</th>\n",
       "      <th>Sensor Type</th>\n",
       "      <th>Pressure</th>\n",
       "      <th>Temperature</th>\n",
       "    </tr>\n",
       "    <tr>\n",
       "      <th>Log Entry</th>\n",
       "      <th></th>\n",
       "      <th></th>\n",
       "      <th></th>\n",
       "      <th></th>\n",
       "      <th></th>\n",
       "      <th></th>\n",
       "      <th></th>\n",
       "      <th></th>\n",
       "    </tr>\n",
       "  </thead>\n",
       "  <tbody>\n",
       "    <tr>\n",
       "      <th>2</th>\n",
       "      <td>11</td>\n",
       "      <td>0.011</td>\n",
       "      <td>SENSOR</td>\n",
       "      <td>3</td>\n",
       "      <td>0</td>\n",
       "      <td>BARO</td>\n",
       "      <td>0</td>\n",
       "      <td>0.00</td>\n",
       "    </tr>\n",
       "    <tr>\n",
       "      <th>4</th>\n",
       "      <td>21</td>\n",
       "      <td>0.021</td>\n",
       "      <td>SENSOR</td>\n",
       "      <td>3</td>\n",
       "      <td>13603</td>\n",
       "      <td>BARO</td>\n",
       "      <td>-3232</td>\n",
       "      <td>28.82</td>\n",
       "    </tr>\n",
       "    <tr>\n",
       "      <th>6</th>\n",
       "      <td>31</td>\n",
       "      <td>0.031</td>\n",
       "      <td>SENSOR</td>\n",
       "      <td>3</td>\n",
       "      <td>13703</td>\n",
       "      <td>BARO</td>\n",
       "      <td>-3232</td>\n",
       "      <td>28.82</td>\n",
       "    </tr>\n",
       "    <tr>\n",
       "      <th>8</th>\n",
       "      <td>41</td>\n",
       "      <td>0.041</td>\n",
       "      <td>SENSOR</td>\n",
       "      <td>3</td>\n",
       "      <td>13703</td>\n",
       "      <td>BARO</td>\n",
       "      <td>-3232</td>\n",
       "      <td>28.82</td>\n",
       "    </tr>\n",
       "    <tr>\n",
       "      <th>10</th>\n",
       "      <td>51</td>\n",
       "      <td>0.051</td>\n",
       "      <td>SENSOR</td>\n",
       "      <td>3</td>\n",
       "      <td>13703</td>\n",
       "      <td>BARO</td>\n",
       "      <td>-3232</td>\n",
       "      <td>28.82</td>\n",
       "    </tr>\n",
       "  </tbody>\n",
       "</table>\n",
       "</div>"
      ],
      "text/plain": [
       "           Timestamp  Time_s Log Entry Type Sensor Board ID  \\\n",
       "Log Entry                                                     \n",
       "2                 11   0.011         SENSOR               3   \n",
       "4                 21   0.021         SENSOR               3   \n",
       "6                 31   0.031         SENSOR               3   \n",
       "8                 41   0.041         SENSOR               3   \n",
       "10                51   0.051         SENSOR               3   \n",
       "\n",
       "          Sensor Board Timestamp Sensor Type Pressure  Temperature  \n",
       "Log Entry                                                           \n",
       "2                              0        BARO        0         0.00  \n",
       "4                          13603        BARO    -3232        28.82  \n",
       "6                          13703        BARO    -3232        28.82  \n",
       "8                          13703        BARO    -3232        28.82  \n",
       "10                         13703        BARO    -3232        28.82  "
      ]
     },
     "execution_count": 9,
     "metadata": {},
     "output_type": "execute_result"
    }
   ],
   "source": [
    "#extract data for baro sensors\n",
    "baro_log[['Pressure', 'Temperature', 'Sensor Board Timestamp']] = baro_log['Data'].str.split(',', expand = True)\n",
    "baro_log.drop(columns = ['Data'], inplace = True)\n",
    "#reorder columns\n",
    "baro_log = baro_log[['Timestamp', 'Time_s', 'Log Entry Type', 'Sensor Board ID', 'Sensor Board Timestamp', 'Sensor Type', 'Pressure', 'Temperature']]\n",
    "\n",
    "#convert temperature to Celsius\n",
    "fmt_tmp = lambda x: x / 1000\n",
    "baro_log['Temperature'] = baro_log['Temperature'].apply(pd.to_numeric).apply(fmt_tmp)\n",
    "baro_log.head()"
   ]
  },
  {
   "cell_type": "code",
   "execution_count": 10,
   "metadata": {},
   "outputs": [],
   "source": [
    "#save to csv; read as pd.read_csv(loc, index_col = 0)\n",
    "baro_log.to_csv(f'{split_logs_dir}/baro.csv')"
   ]
  },
  {
   "cell_type": "markdown",
   "metadata": {},
   "source": [
    "## IMU Log"
   ]
  },
  {
   "cell_type": "code",
   "execution_count": 11,
   "metadata": {},
   "outputs": [
    {
     "data": {
      "text/html": [
       "<div>\n",
       "<style scoped>\n",
       "    .dataframe tbody tr th:only-of-type {\n",
       "        vertical-align: middle;\n",
       "    }\n",
       "\n",
       "    .dataframe tbody tr th {\n",
       "        vertical-align: top;\n",
       "    }\n",
       "\n",
       "    .dataframe thead th {\n",
       "        text-align: right;\n",
       "    }\n",
       "</style>\n",
       "<table border=\"1\" class=\"dataframe\">\n",
       "  <thead>\n",
       "    <tr style=\"text-align: right;\">\n",
       "      <th></th>\n",
       "      <th>Timestamp</th>\n",
       "      <th>Time_s</th>\n",
       "      <th>Log Entry Type</th>\n",
       "      <th>Sensor Board ID</th>\n",
       "      <th>Sensor Board Timestamp</th>\n",
       "      <th>Sensor Type</th>\n",
       "      <th>Acc_x</th>\n",
       "      <th>Acc_y</th>\n",
       "      <th>Acc_z</th>\n",
       "      <th>Gyro_x</th>\n",
       "      <th>Gyro_y</th>\n",
       "      <th>Gyro_z</th>\n",
       "    </tr>\n",
       "    <tr>\n",
       "      <th>Log Entry</th>\n",
       "      <th></th>\n",
       "      <th></th>\n",
       "      <th></th>\n",
       "      <th></th>\n",
       "      <th></th>\n",
       "      <th></th>\n",
       "      <th></th>\n",
       "      <th></th>\n",
       "      <th></th>\n",
       "      <th></th>\n",
       "      <th></th>\n",
       "      <th></th>\n",
       "    </tr>\n",
       "  </thead>\n",
       "  <tbody>\n",
       "    <tr>\n",
       "      <th>3</th>\n",
       "      <td>11</td>\n",
       "      <td>0.011</td>\n",
       "      <td>SENSOR</td>\n",
       "      <td>3</td>\n",
       "      <td>0</td>\n",
       "      <td>IMU</td>\n",
       "      <td>0.000000</td>\n",
       "      <td>0.000000</td>\n",
       "      <td>0.000000</td>\n",
       "      <td>0.000000</td>\n",
       "      <td>0.000000</td>\n",
       "      <td>0.000000</td>\n",
       "    </tr>\n",
       "    <tr>\n",
       "      <th>5</th>\n",
       "      <td>21</td>\n",
       "      <td>0.021</td>\n",
       "      <td>SENSOR</td>\n",
       "      <td>3</td>\n",
       "      <td>13599</td>\n",
       "      <td>IMU</td>\n",
       "      <td>-0.081055</td>\n",
       "      <td>0.039062</td>\n",
       "      <td>0.944336</td>\n",
       "      <td>0.076336</td>\n",
       "      <td>-1.755725</td>\n",
       "      <td>38.351145</td>\n",
       "    </tr>\n",
       "    <tr>\n",
       "      <th>7</th>\n",
       "      <td>31</td>\n",
       "      <td>0.031</td>\n",
       "      <td>SENSOR</td>\n",
       "      <td>3</td>\n",
       "      <td>13599</td>\n",
       "      <td>IMU</td>\n",
       "      <td>-0.081055</td>\n",
       "      <td>0.039062</td>\n",
       "      <td>0.944336</td>\n",
       "      <td>0.076336</td>\n",
       "      <td>-1.755725</td>\n",
       "      <td>38.351145</td>\n",
       "    </tr>\n",
       "    <tr>\n",
       "      <th>9</th>\n",
       "      <td>41</td>\n",
       "      <td>0.041</td>\n",
       "      <td>SENSOR</td>\n",
       "      <td>3</td>\n",
       "      <td>13599</td>\n",
       "      <td>IMU</td>\n",
       "      <td>-0.081055</td>\n",
       "      <td>0.039062</td>\n",
       "      <td>0.944336</td>\n",
       "      <td>0.076336</td>\n",
       "      <td>-1.755725</td>\n",
       "      <td>38.351145</td>\n",
       "    </tr>\n",
       "    <tr>\n",
       "      <th>11</th>\n",
       "      <td>51</td>\n",
       "      <td>0.051</td>\n",
       "      <td>SENSOR</td>\n",
       "      <td>3</td>\n",
       "      <td>13639</td>\n",
       "      <td>IMU</td>\n",
       "      <td>-0.092773</td>\n",
       "      <td>0.039062</td>\n",
       "      <td>0.955078</td>\n",
       "      <td>-1.709924</td>\n",
       "      <td>-7.114504</td>\n",
       "      <td>39.938931</td>\n",
       "    </tr>\n",
       "  </tbody>\n",
       "</table>\n",
       "</div>"
      ],
      "text/plain": [
       "           Timestamp  Time_s Log Entry Type Sensor Board ID  \\\n",
       "Log Entry                                                     \n",
       "3                 11   0.011         SENSOR               3   \n",
       "5                 21   0.021         SENSOR               3   \n",
       "7                 31   0.031         SENSOR               3   \n",
       "9                 41   0.041         SENSOR               3   \n",
       "11                51   0.051         SENSOR               3   \n",
       "\n",
       "          Sensor Board Timestamp Sensor Type     Acc_x     Acc_y     Acc_z  \\\n",
       "Log Entry                                                                    \n",
       "3                              0         IMU  0.000000  0.000000  0.000000   \n",
       "5                          13599         IMU -0.081055  0.039062  0.944336   \n",
       "7                          13599         IMU -0.081055  0.039062  0.944336   \n",
       "9                          13599         IMU -0.081055  0.039062  0.944336   \n",
       "11                         13639         IMU -0.092773  0.039062  0.955078   \n",
       "\n",
       "             Gyro_x    Gyro_y     Gyro_z  \n",
       "Log Entry                                 \n",
       "3          0.000000  0.000000   0.000000  \n",
       "5          0.076336 -1.755725  38.351145  \n",
       "7          0.076336 -1.755725  38.351145  \n",
       "9          0.076336 -1.755725  38.351145  \n",
       "11        -1.709924 -7.114504  39.938931  "
      ]
     },
     "execution_count": 11,
     "metadata": {},
     "output_type": "execute_result"
    }
   ],
   "source": [
    "#generate Acc_x, Acc_y, Acc_z, Gyro_x, Gyro_y, Gyro_z\n",
    "dim3 = lambda x : [x + '_' + s for s in ['x', 'y', 'z']]\n",
    "imu_cols = dim3('Acc') + dim3('Gyro')\n",
    "\n",
    "#extract data for imu sensors\n",
    "imu_log[imu_cols + ['Sensor Board Timestamp']] = imu_log['Data'].str.split(',', expand = True)\n",
    "imu_log.drop(columns = ['Data'], inplace = True)\n",
    "#reorder columns\n",
    "imu_log = imu_log[['Timestamp', 'Time_s', 'Log Entry Type', 'Sensor Board ID', 'Sensor Board Timestamp', 'Sensor Type'] + imu_cols]\n",
    "\n",
    "#scale acceleration and rotation to float\n",
    "\n",
    "#convert to gs\n",
    "fmt_acc = lambda x: x / 1024\n",
    "#convert to degrees per second\n",
    "fmt_gyro = lambda x: x / 65.5\n",
    "\n",
    "imu_log[dim3('Acc')] = imu_log[dim3('Acc')].apply(pd.to_numeric).apply(fmt_acc)\n",
    "imu_log[dim3('Gyro')] = imu_log[dim3('Gyro')].apply(pd.to_numeric).apply(fmt_gyro)\n",
    "\n",
    "imu_log.head()"
   ]
  },
  {
   "cell_type": "code",
   "execution_count": 12,
   "metadata": {},
   "outputs": [],
   "source": [
    "#save to csv; read as pd.read_csv(loc, index_col = 0)\n",
    "imu_log.to_csv(f'{split_logs_dir}/imu.csv')"
   ]
  },
  {
   "cell_type": "markdown",
   "metadata": {},
   "source": [
    "# State Log"
   ]
  },
  {
   "cell_type": "code",
   "execution_count": 13,
   "metadata": {},
   "outputs": [
    {
     "data": {
      "text/html": [
       "<div>\n",
       "<style scoped>\n",
       "    .dataframe tbody tr th:only-of-type {\n",
       "        vertical-align: middle;\n",
       "    }\n",
       "\n",
       "    .dataframe tbody tr th {\n",
       "        vertical-align: top;\n",
       "    }\n",
       "\n",
       "    .dataframe thead th {\n",
       "        text-align: right;\n",
       "    }\n",
       "</style>\n",
       "<table border=\"1\" class=\"dataframe\">\n",
       "  <thead>\n",
       "    <tr style=\"text-align: right;\">\n",
       "      <th></th>\n",
       "      <th>Timestamp</th>\n",
       "      <th>Log Entry Type</th>\n",
       "      <th>Data</th>\n",
       "      <th>Time_s</th>\n",
       "    </tr>\n",
       "    <tr>\n",
       "      <th>Log Entry</th>\n",
       "      <th></th>\n",
       "      <th></th>\n",
       "      <th></th>\n",
       "      <th></th>\n",
       "    </tr>\n",
       "  </thead>\n",
       "  <tbody>\n",
       "  </tbody>\n",
       "</table>\n",
       "</div>"
      ],
      "text/plain": [
       "Empty DataFrame\n",
       "Columns: [Timestamp, Log Entry Type, Data, Time_s]\n",
       "Index: []"
      ]
     },
     "execution_count": 13,
     "metadata": {},
     "output_type": "execute_result"
    }
   ],
   "source": [
    "#extract state change entries\n",
    "state_log = full_log[full_log['Log Entry Type'] == 'STATE'].copy()\n",
    "state_log.head()"
   ]
  },
  {
   "cell_type": "code",
   "execution_count": 14,
   "metadata": {},
   "outputs": [],
   "source": [
    "#save to csv; read as pd.read_csv(loc, index_col = 0)\n",
    "state_log.to_csv(f'{split_logs_dir}/state_transitions.csv')"
   ]
  },
  {
   "cell_type": "markdown",
   "metadata": {},
   "source": [
    "# Estimator Variable Log"
   ]
  },
  {
   "cell_type": "code",
   "execution_count": 15,
   "metadata": {},
   "outputs": [],
   "source": [
    "#extract estimator var entries\n",
    "estimator_var_log = full_log[full_log['Log Entry Type'] == 'ESTIMATOR_VAR'].copy()\n",
    "estimator_var_log.head()\n",
    "\n",
    "#save to csv; read as pd.read_csv(loc, index_col = 0)\n",
    "estimator_var_log.to_csv(f'{split_logs_dir}/estimator_vars.csv')"
   ]
  },
  {
   "cell_type": "markdown",
   "metadata": {},
   "source": [
    "# Message Log"
   ]
  },
  {
   "cell_type": "code",
   "execution_count": 16,
   "metadata": {},
   "outputs": [
    {
     "data": {
      "text/html": [
       "<div>\n",
       "<style scoped>\n",
       "    .dataframe tbody tr th:only-of-type {\n",
       "        vertical-align: middle;\n",
       "    }\n",
       "\n",
       "    .dataframe tbody tr th {\n",
       "        vertical-align: top;\n",
       "    }\n",
       "\n",
       "    .dataframe thead th {\n",
       "        text-align: right;\n",
       "    }\n",
       "</style>\n",
       "<table border=\"1\" class=\"dataframe\">\n",
       "  <thead>\n",
       "    <tr style=\"text-align: right;\">\n",
       "      <th></th>\n",
       "      <th>Timestamp</th>\n",
       "      <th>Log Entry Type</th>\n",
       "      <th>Data</th>\n",
       "      <th>Time_s</th>\n",
       "    </tr>\n",
       "    <tr>\n",
       "      <th>Log Entry</th>\n",
       "      <th></th>\n",
       "      <th></th>\n",
       "      <th></th>\n",
       "      <th></th>\n",
       "    </tr>\n",
       "  </thead>\n",
       "  <tbody>\n",
       "    <tr>\n",
       "      <th>0</th>\n",
       "      <td>1001</td>\n",
       "      <td>MSG</td>\n",
       "      <td>Controlling something...</td>\n",
       "      <td>1.001</td>\n",
       "    </tr>\n",
       "    <tr>\n",
       "      <th>202</th>\n",
       "      <td>2001</td>\n",
       "      <td>MSG</td>\n",
       "      <td>Controlling something...</td>\n",
       "      <td>2.001</td>\n",
       "    </tr>\n",
       "    <tr>\n",
       "      <th>404</th>\n",
       "      <td>3001</td>\n",
       "      <td>MSG</td>\n",
       "      <td>Controlling something...</td>\n",
       "      <td>3.001</td>\n",
       "    </tr>\n",
       "    <tr>\n",
       "      <th>606</th>\n",
       "      <td>4001</td>\n",
       "      <td>MSG</td>\n",
       "      <td>Controlling something...</td>\n",
       "      <td>4.001</td>\n",
       "    </tr>\n",
       "    <tr>\n",
       "      <th>808</th>\n",
       "      <td>5001</td>\n",
       "      <td>MSG</td>\n",
       "      <td>Controlling something...</td>\n",
       "      <td>5.001</td>\n",
       "    </tr>\n",
       "  </tbody>\n",
       "</table>\n",
       "</div>"
      ],
      "text/plain": [
       "           Timestamp Log Entry Type                      Data  Time_s\n",
       "Log Entry                                                            \n",
       "0               1001            MSG  Controlling something...   1.001\n",
       "202             2001            MSG  Controlling something...   2.001\n",
       "404             3001            MSG  Controlling something...   3.001\n",
       "606             4001            MSG  Controlling something...   4.001\n",
       "808             5001            MSG  Controlling something...   5.001"
      ]
     },
     "execution_count": 16,
     "metadata": {},
     "output_type": "execute_result"
    }
   ],
   "source": [
    "#extract message entries\n",
    "msg_log = full_log[full_log['Log Entry Type'] == 'MSG'].copy()\n",
    "msg_log.head()"
   ]
  },
  {
   "cell_type": "code",
   "execution_count": 17,
   "metadata": {},
   "outputs": [],
   "source": [
    "#save to csv; read as pd.read_csv(loc, index_col = 0)\n",
    "msg_log.to_csv(f'{split_logs_dir}/messages.csv')"
   ]
  },
  {
   "cell_type": "code",
   "execution_count": null,
   "metadata": {},
   "outputs": [],
   "source": []
  }
 ],
 "metadata": {
  "kernelspec": {
   "display_name": "Python 3",
   "language": "python",
   "name": "python3"
  },
  "language_info": {
   "codemirror_mode": {
    "name": "ipython",
    "version": 3
   },
   "file_extension": ".py",
   "mimetype": "text/x-python",
   "name": "python",
   "nbconvert_exporter": "python",
   "pygments_lexer": "ipython3",
   "version": "3.6.5"
  }
 },
 "nbformat": 4,
 "nbformat_minor": 2
}
